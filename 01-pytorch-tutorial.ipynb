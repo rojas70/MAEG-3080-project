{
 "cells": [
  {
   "cell_type": "markdown",
   "metadata": {},
   "source": [
    "This is a simple pytorch to teach you how to use pytorch. Pytorch is widely used for deep learning and it supports automatically compute gradients of equations. \n",
    "\n",
    "Let see how pytorch works."
   ]
  },
  {
   "cell_type": "markdown",
   "metadata": {},
   "source": [
    "## 1. How to Autograd"
   ]
  },
  {
   "cell_type": "markdown",
   "metadata": {},
   "source": [
    "Since pytorch can compute derivatives automatically, we show 2 examples of the autograd of pytorch."
   ]
  },
  {
   "cell_type": "markdown",
   "metadata": {},
   "source": [
    "### 1.1 Autograd from Scratch"
   ]
  },
  {
   "cell_type": "code",
   "execution_count": 2,
   "metadata": {},
   "outputs": [],
   "source": [
    "# Import modules\n",
    "import torch # pytorch core module\n",
    "import torchvision # pytorch computer vision module\n",
    "import torch.nn as nn # pytorch standard net module\n",
    "import numpy as np\n",
    "import torchvision.transforms as transforms # scaling function"
   ]
  },
  {
   "cell_type": "markdown",
   "metadata": {},
   "source": [
    "Let us start with the first example, we compute the gradients of `y = w * x + b`"
   ]
  },
  {
   "cell_type": "code",
   "execution_count": 3,
   "metadata": {},
   "outputs": [
    {
     "name": "stdout",
     "output_type": "stream",
     "text": [
      "tensor(2.)\n",
      "tensor(1.)\n",
      "tensor(1.)\n"
     ]
    }
   ],
   "source": [
    "# Create tensors.\n",
    "x = torch.tensor(1., requires_grad=True) # set requires_grad if compute \n",
    "w = torch.tensor(2., requires_grad=True) #                  derivatives\n",
    "b = torch.tensor(3., requires_grad=True)\n",
    "\n",
    "# Build a computational graph.\n",
    "y = w * x + b    # y = 2 * x + 3\n",
    "\n",
    "# Compute gradients.\n",
    "y.backward()\n",
    "\n",
    "# Print out the gradients.\n",
    "print(x.grad)    # x.grad = 2 \n",
    "print(w.grad)    # w.grad = 1 \n",
    "print(b.grad)    # b.grad = 1 "
   ]
  },
  {
   "cell_type": "markdown",
   "metadata": {},
   "source": [
    "After you build the computation graph, you can compute gradients for any equation. In this example, we have y = w * x + b. Partial derivative of y with respect to x can be computed as `x.grad`"
   ]
  },
  {
   "cell_type": "markdown",
   "metadata": {},
   "source": [
    "### 1.2 Autograd with nn.Linear"
   ]
  },
  {
   "cell_type": "markdown",
   "metadata": {},
   "source": [
    "Actually `w * x + b` is a simple linear model. We use `nn.Linear` in this example to show how to create a linear model:"
   ]
  },
  {
   "cell_type": "code",
   "execution_count": 6,
   "metadata": {},
   "outputs": [
    {
     "name": "stdout",
     "output_type": "stream",
     "text": [
      "w:  Parameter containing:\n",
      "tensor([[-0.3108, -0.2729, -0.5598],\n",
      "        [-0.1254, -0.0949, -0.0153]], requires_grad=True)\n",
      "b:  Parameter containing:\n",
      "tensor([-0.1089, -0.1291], requires_grad=True)\n"
     ]
    }
   ],
   "source": [
    "# Create tensors of shape (10, 3) and (10, 2).\n",
    "x = torch.randn(10, 3)\n",
    "y = torch.randn(10, 2)\n",
    "\n",
    "# Build a fully connected layer.\n",
    "linear = nn.Linear(3, 2)\n",
    "print ('w: ', linear.weight)\n",
    "print ('b: ', linear.bias)"
   ]
  },
  {
   "cell_type": "markdown",
   "metadata": {},
   "source": [
    "**Remarks**: `w` and `b` are the weights of the linear model. They are intialized with random variables. \n",
    "\n",
    "\n",
    "Now we show how to use the linear model `w*b` to approximate `y`:"
   ]
  },
  {
   "cell_type": "code",
   "execution_count": 7,
   "metadata": {},
   "outputs": [
    {
     "name": "stdout",
     "output_type": "stream",
     "text": [
      "loss:  0.7807512283325195\n"
     ]
    }
   ],
   "source": [
    "# Build loss function and optimizer.\n",
    "criterion = nn.MSELoss() # Mean Square Error\n",
    "optimizer = torch.optim.SGD(linear.parameters(), lr=0.01) # Stocastic \n",
    "                                                    #Gradient Descend \n",
    "\n",
    "# Forward pass.\n",
    "pred = linear(x)\n",
    "\n",
    "# Compute loss.\n",
    "loss = criterion(pred, y)\n",
    "print('loss: ', loss.item())"
   ]
  },
  {
   "cell_type": "markdown",
   "metadata": {},
   "source": [
    "**Remarks:** `MSELOSS()` is the loss function, Mean Square Error. `SDG` is the optimizer, Stocastic Gradient Descend. We use the loss function to compute the error between the predicted value of the linear model and ground truth."
   ]
  },
  {
   "cell_type": "markdown",
   "metadata": {},
   "source": [
    "Now we optimze the linear model to make its predicted value closed to `y` as much as possible. Let us do one-step optimization:"
   ]
  },
  {
   "cell_type": "code",
   "execution_count": 8,
   "metadata": {},
   "outputs": [
    {
     "name": "stdout",
     "output_type": "stream",
     "text": [
      "dL/dw:  tensor([[-0.3451,  0.1039, -0.6926],\n",
      "        [-0.5663,  0.1949, -0.7459]])\n",
      "dL/db:  tensor([-0.4857, -0.4996])\n",
      "loss after 1 step optimization:  0.7608612775802612\n"
     ]
    }
   ],
   "source": [
    "# Backward pass.\n",
    "loss.backward()\n",
    "\n",
    "# Print out the gradients.\n",
    "print ('dL/dw: ', linear.weight.grad) \n",
    "print ('dL/db: ', linear.bias.grad)\n",
    "\n",
    "# 1-step gradient descent.\n",
    "optimizer.step()\n",
    "\n",
    "# You can also perform gradient descent at the low level.\n",
    "# linear.weight.data.sub_(0.01 * linear.weight.grad.data)\n",
    "# linear.bias.data.sub_(0.01 * linear.bias.grad.data)\n",
    "\n",
    "# Print out the loss after 1-step gradient descent.\n",
    "pred = linear(x)\n",
    "loss = criterion(pred, y)\n",
    "print('loss after 1 step optimization: ', loss.item())"
   ]
  },
  {
   "cell_type": "markdown",
   "metadata": {},
   "source": [
    "Let us do 10-step optimization:"
   ]
  },
  {
   "cell_type": "code",
   "execution_count": 9,
   "metadata": {},
   "outputs": [
    {
     "name": "stdout",
     "output_type": "stream",
     "text": [
      "loss after 1 step optimization:  0.585281252861023\n"
     ]
    }
   ],
   "source": [
    "for i in range(10):\n",
    "    optimizer.step()\n",
    "\n",
    "# Print out the loss after 10-step gradient descent.\n",
    "pred = linear(x)\n",
    "loss = criterion(pred, y)\n",
    "print('loss after 10 step optimization: ', loss.item())"
   ]
  },
  {
   "cell_type": "markdown",
   "metadata": {},
   "source": [
    "**Remarks:** Now you can find that the as the steps of optimization increases, the loss decreases. And that means the prediction is more accurate."
   ]
  },
  {
   "cell_type": "markdown",
   "metadata": {},
   "source": [
    "## 2.How to create torch tensor from numpy\n",
    "\n",
    "Now we show how to create a tensor from numpy array:"
   ]
  },
  {
   "cell_type": "code",
   "execution_count": 14,
   "metadata": {},
   "outputs": [
    {
     "name": "stdout",
     "output_type": "stream",
     "text": [
      "x: [[1 2]\n",
      " [3 4]]\n",
      "y: tensor([[1, 2],\n",
      "        [3, 4]])\n",
      "z: [[1 2]\n",
      " [3 4]]\n"
     ]
    }
   ],
   "source": [
    "# Create a numpy array.\n",
    "x = np.array([[1, 2], [3, 4]])\n",
    "\n",
    "# Convert the numpy array to a torch tensor.\n",
    "y = torch.from_numpy(x)\n",
    "\n",
    "# Convert the torch tensor to a numpy array.\n",
    "z = y.numpy()\n",
    "\n",
    "print(f'x: {x}')\n",
    "print(f'y: {y}')\n",
    "print(f'z: {z}')"
   ]
  },
  {
   "cell_type": "markdown",
   "metadata": {},
   "source": [
    "## 3. How to Create Pipline for custom dataset"
   ]
  },
  {
   "cell_type": "code",
   "execution_count": 19,
   "metadata": {},
   "outputs": [
    {
     "name": "stdout",
     "output_type": "stream",
     "text": [
      "\u001b[4;31mError\u001b[0m: \n",
      "  homebrew-core is a shallow clone.\n",
      "To `brew update`, first run:\n",
      "  git -C /usr/local/Homebrew/Library/Taps/homebrew/homebrew-core fetch --unshallow\n",
      "This command may take a few minutes to run due to the large size of the repository.\n",
      "This restriction has been made on GitHub's request because updating shallow\n",
      "clones is an extremely expensive operation due to the tree layout and traffic of\n",
      "Homebrew/homebrew-core and Homebrew/homebrew-cask. We don't do this for you\n",
      "automatically to avoid repeatedly performing an expensive unshallow operation in\n",
      "CI systems (which should instead be fixed to not use shallow clones). Sorry for\n",
      "the inconvenience!\n",
      "\u001b[34m==>\u001b[0m \u001b[1mDownloading https://homebrew.bintray.com/bottles/wget-1.21.1.big_sur.bottle.\u001b[0m\n",
      "\u001b[34m==>\u001b[0m \u001b[1mDownloading from https://d29vzk4ow07wi7.cloudfront.net/e6ea2a50b8196206f7072\u001b[0m\n",
      "######################################################################## 100.0%\n",
      "\u001b[34m==>\u001b[0m \u001b[1mPouring wget-1.21.1.big_sur.bottle.tar.gz\u001b[0m\n",
      "🍺  /usr/local/Cellar/wget/1.21.1: 88 files, 4MB\n",
      "\u001b[34m==>\u001b[0m \u001b[1m`brew cleanup` has not been run in 30 days, running now...\u001b[0m\n",
      "Removing: /usr/local/Cellar/aom/1.0.0... (19 files, 12.4MB)\n",
      "Removing: /usr/local/Cellar/aom/2.0.0... (19 files, 16.1MB)\n",
      "Removing: /usr/local/Cellar/bdw-gc/8.0.4... (69 files, 1.5MB)\n",
      "Removing: /usr/local/Cellar/cairo/1.16.0_3... (117 files, 5.7MB)\n",
      "Removing: /usr/local/Cellar/dav1d/0.7.1... (15 files, 1.4MB)\n",
      "Removing: /usr/local/Cellar/freetype/2.10.1... (61 files, 2.2MB)\n",
      "Removing: /usr/local/Cellar/freetype/2.10.3... (64 files, 2.3MB)\n",
      "Removing: /usr/local/Cellar/glib/2.66.1... (436 files, 15.5MB)\n",
      "Removing: /usr/local/Cellar/gobject-introspection/1.66.1... (191 files, 12.7MB)\n",
      "Removing: /usr/local/Cellar/harfbuzz/2.7.2... (68 files, 6.2MB)\n",
      "Removing: /usr/local/Cellar/libass/0.14.0_1... (10 files, 522KB)\n",
      "Removing: /usr/local/Cellar/libbluray/1.1.2... (21 files, 1.5MB)\n",
      "Removing: /usr/local/Cellar/libbluray/1.2.0... (21 files, 1.6MB)\n",
      "Removing: /usr/local/Cellar/libffi/3.2.1... (16 files, 300.7KB)\n",
      "Removing: /usr/local/Cellar/libffi/3.3... (16 files, 489.4KB)\n",
      "Removing: /usr/local/Cellar/libsndfile/1.0.28... (48 files, 1.9MB)\n",
      "Removing: /usr/local/Cellar/libsndfile/1.0.30... (49 files, 1.7MB)\n",
      "Removing: /usr/local/Cellar/libtasn1/4.14... (59 files, 399.9KB)\n",
      "Removing: /usr/local/Cellar/libtasn1/4.16.0... (60 files, 404.5KB)\n",
      "Removing: /usr/local/Cellar/libtiff/4.1.0... (247 files, 3.7MB)\n",
      "Removing: /usr/local/Cellar/little-cms2/2.11... (21 files, 1MB)\n",
      "Removing: /usr/local/Cellar/little-cms2/2.9... (18 files, 1MB)\n",
      "Removing: /usr/local/Cellar/openjpeg/2.3.1... (516 files, 13.9MB)\n",
      "Removing: /usr/local/Cellar/openssl@1.1/1.1.1g... (8,059 files, 18MB)\n",
      "Removing: /usr/local/Cellar/openssl@1.1/1.1.1h... (8,067 files, 18.5MB)\n",
      "Removing: /usr/local/Cellar/p11-kit/0.23.18.1... (63 files, 2.9MB)\n",
      "Removing: /usr/local/Cellar/p11-kit/0.23.21... (63 files, 3.0MB)\n",
      "Removing: /usr/local/Cellar/rav1e/0.3.4... (13 files, 66.5MB)\n",
      "Removing: /usr/local/Cellar/readline/8.0.4... (48 files, 1.5MB)\n",
      "Removing: /usr/local/Cellar/sdl2/2.0.10... (87 files, 4.6MB)\n",
      "Removing: /usr/local/Cellar/sdl2/2.0.12_1... (89 files, 4.7MB)\n",
      "Removing: /usr/local/Cellar/sqlite/3.31.1... (11 files, 4MB)\n",
      "Removing: /usr/local/Cellar/sqlite/3.33.0... (11 files, 4MB)\n",
      "Removing: /usr/local/Cellar/unbound/1.12.0... (57 files, 5.4MB)\n",
      "Removing: /usr/local/Cellar/webp/1.0.3... (39 files, 2.1MB)\n",
      "Removing: /usr/local/Cellar/webp/1.1.0... (39 files, 2.1MB)\n",
      "Removing: /usr/local/Cellar/x264/r2917_1... (11 files, 5.9MB)\n",
      "Removing: /usr/local/Cellar/x264/r3011... (11 files, 5.8MB)\n",
      "Removing: /usr/local/Cellar/x265/3.2.1... (11 files, 35.2MB)\n",
      "Removing: /usr/local/Cellar/x265/3.4... (11 files, 35.5MB)\n",
      "Removing: /Users/linhongbin/Library/Logs/Homebrew/libtiff... (64B)\n",
      "Removing: /Users/linhongbin/Library/Logs/Homebrew/ffmpeg... (64B)\n",
      "Removing: /Users/linhongbin/Library/Logs/Homebrew/mpich... (64B)\n",
      "Removing: /Users/linhongbin/Library/Logs/Homebrew/nghttp2... (64B)\n",
      "Removing: /Users/linhongbin/Library/Logs/Homebrew/little-cms2... (64B)\n",
      "Removing: /Users/linhongbin/Library/Logs/Homebrew/nettle... (64B)\n",
      "Removing: /Users/linhongbin/Library/Logs/Homebrew/freetype... (64B)\n",
      "Removing: /Users/linhongbin/Library/Logs/Homebrew/mpfr... (64B)\n",
      "Removing: /Users/linhongbin/Library/Logs/Homebrew/openjpeg... (64B)\n",
      "Removing: /Users/linhongbin/Library/Logs/Homebrew/zimg... (64B)\n",
      "Removing: /Users/linhongbin/Library/Logs/Homebrew/jemalloc... (64B)\n",
      "Removing: /Users/linhongbin/Library/Logs/Homebrew/bdw-gc... (64B)\n",
      "Removing: /Users/linhongbin/Library/Logs/Homebrew/zeromq... (64B)\n",
      "Removing: /Users/linhongbin/Library/Logs/Homebrew/harfbuzz... (64B)\n",
      "Removing: /Users/linhongbin/Library/Logs/Homebrew/libbluray... (64B)\n",
      "Removing: /Users/linhongbin/Library/Logs/Homebrew/glib... (64B)\n",
      "Removing: /Users/linhongbin/Library/Logs/Homebrew/readline... (64B)\n",
      "Removing: /Users/linhongbin/Library/Logs/Homebrew/aom... (64B)\n",
      "Removing: /Users/linhongbin/Library/Logs/Homebrew/gcc... (64B)\n",
      "Removing: /Users/linhongbin/Library/Logs/Homebrew/cairo... (64B)\n",
      "Removing: /Users/linhongbin/Library/Logs/Homebrew/webp... (64B)\n",
      "Removing: /Users/linhongbin/Library/Logs/Homebrew/sqlite... (64B)\n",
      "Removing: /Users/linhongbin/Library/Logs/Homebrew/c-ares... (64B)\n",
      "Removing: /Users/linhongbin/Library/Logs/Homebrew/gobject-introspection... (64B)\n",
      "Removing: /Users/linhongbin/Library/Logs/Homebrew/tcl-tk... (64B)\n",
      "Removing: /Users/linhongbin/Library/Logs/Homebrew/libsodium... (64B)\n",
      "Removing: /Users/linhongbin/Library/Logs/Homebrew/dav1d... (64B)\n",
      "Removing: /Users/linhongbin/Library/Logs/Homebrew/rav1e... (64B)\n",
      "Removing: /Users/linhongbin/Library/Logs/Homebrew/libtasn1... (64B)\n",
      "Removing: /Users/linhongbin/Library/Logs/Homebrew/isl... (64B)\n",
      "Removing: /Users/linhongbin/Library/Logs/Homebrew/openssl@1.1... (64B)\n",
      "Removing: /Users/linhongbin/Library/Logs/Homebrew/x264... (64B)\n",
      "Removing: /Users/linhongbin/Library/Logs/Homebrew/x265... (64B)\n",
      "Removing: /Users/linhongbin/Library/Logs/Homebrew/unbound... (64B)\n",
      "Removing: /Users/linhongbin/Library/Logs/Homebrew/sdl2... (64B)\n",
      "Removing: /Users/linhongbin/Library/Logs/Homebrew/libass... (64B)\n",
      "Removing: /Users/linhongbin/Library/Logs/Homebrew/guile... (64B)\n",
      "Removing: /Users/linhongbin/Library/Logs/Homebrew/libsndfile... (64B)\n",
      "Removing: /Users/linhongbin/Library/Logs/Homebrew/p11-kit... (64B)\n",
      "Removing: /Users/linhongbin/Library/Logs/Homebrew/libev... (64B)\n",
      "Removing: /Users/linhongbin/Library/Logs/Homebrew/libffi... (64B)\n",
      "Removing: /Users/linhongbin/Library/Logs/Homebrew/python@3.9... (3 files, 718.6KB)\n",
      "Removing: /Users/linhongbin/Library/Logs/Homebrew/libmpc... (64B)\n",
      "Pruned 0 symbolic links and 10 directories from /usr/local\n"
     ]
    }
   ],
   "source": [
    "## install wget  (uncomment the line based on your local computer system)\n",
    "!brew install wget # for mac\n",
    "# !sudo apt-get install wget # for ubuntu"
   ]
  },
  {
   "cell_type": "code",
   "execution_count": 20,
   "metadata": {},
   "outputs": [
    {
     "name": "stdout",
     "output_type": "stream",
     "text": [
      "--2021-03-27 16:03:28--  http://www.di.ens.fr/~lelarge/MNIST.tar.gz\n",
      "Resolving www.di.ens.fr (www.di.ens.fr)... 129.199.99.14\n",
      "Connecting to www.di.ens.fr (www.di.ens.fr)|129.199.99.14|:80... connected.\n",
      "HTTP request sent, awaiting response... 302 Found\n",
      "Location: https://www.di.ens.fr/~lelarge/MNIST.tar.gz [following]\n",
      "--2021-03-27 16:03:29--  https://www.di.ens.fr/~lelarge/MNIST.tar.gz\n",
      "Connecting to www.di.ens.fr (www.di.ens.fr)|129.199.99.14|:443... connected.\n",
      "HTTP request sent, awaiting response... 200 OK\n",
      "Length: unspecified [application/x-gzip]\n",
      "Saving to: ‘MNIST.tar.gz’\n",
      "\n",
      "MNIST.tar.gz            [                <=> ]  33.20M  3.59MB/s    in 20s     \n",
      "\n",
      "2021-03-27 16:03:50 (1.69 MB/s) - ‘MNIST.tar.gz’ saved [34813078]\n",
      "\n",
      "x MNIST/\n",
      "x MNIST/raw/\n",
      "x MNIST/raw/train-labels-idx1-ubyte\n",
      "x MNIST/raw/t10k-labels-idx1-ubyte.gz\n",
      "x MNIST/raw/t10k-labels-idx1-ubyte\n",
      "x MNIST/raw/t10k-images-idx3-ubyte.gz\n",
      "x MNIST/raw/train-images-idx3-ubyte\n",
      "x MNIST/raw/train-labels-idx1-ubyte.gz\n",
      "x MNIST/raw/t10k-images-idx3-ubyte\n",
      "x MNIST/raw/train-images-idx3-ubyte.gz\n",
      "x MNIST/processed/\n",
      "x MNIST/processed/training.pt\n",
      "x MNIST/processed/test.pt\n"
     ]
    }
   ],
   "source": [
    "!wget www.di.ens.fr/~lelarge/MNIST.tar.gz\n",
    "!tar -zxvf MNIST.tar.gz"
   ]
  },
  {
   "cell_type": "code",
   "execution_count": 27,
   "metadata": {},
   "outputs": [
    {
     "ename": "NameError",
     "evalue": "name 'num' is not defined",
     "output_type": "error",
     "traceback": [
      "\u001b[0;31m---------------------------------------------------------------------------\u001b[0m",
      "\u001b[0;31mNameError\u001b[0m                                 Traceback (most recent call last)",
      "\u001b[0;32m<ipython-input-27-83dcc1f2dfd9>\u001b[0m in \u001b[0;36m<module>\u001b[0;34m\u001b[0m\n\u001b[1;32m     40\u001b[0m     fig, axes = plt.subplots(num_row, num_col, \n\u001b[1;32m     41\u001b[0m                              figsize=(1.5*num_col,2*num_row))\n\u001b[0;32m---> 42\u001b[0;31m     \u001b[0;32mfor\u001b[0m \u001b[0mi\u001b[0m \u001b[0;32min\u001b[0m \u001b[0mrange\u001b[0m\u001b[0;34m(\u001b[0m\u001b[0mnum\u001b[0m\u001b[0;34m)\u001b[0m\u001b[0;34m:\u001b[0m\u001b[0;34m\u001b[0m\u001b[0;34m\u001b[0m\u001b[0m\n\u001b[0m\u001b[1;32m     43\u001b[0m         \u001b[0max\u001b[0m \u001b[0;34m=\u001b[0m \u001b[0maxes\u001b[0m\u001b[0;34m[\u001b[0m\u001b[0mi\u001b[0m\u001b[0;34m//\u001b[0m\u001b[0mnum_col\u001b[0m\u001b[0;34m,\u001b[0m \u001b[0mi\u001b[0m\u001b[0;34m%\u001b[0m\u001b[0mnum_col\u001b[0m\u001b[0;34m]\u001b[0m\u001b[0;34m\u001b[0m\u001b[0;34m\u001b[0m\u001b[0m\n\u001b[1;32m     44\u001b[0m         \u001b[0max\u001b[0m\u001b[0;34m.\u001b[0m\u001b[0mimshow\u001b[0m\u001b[0;34m(\u001b[0m\u001b[0mimages\u001b[0m\u001b[0;34m[\u001b[0m\u001b[0mi\u001b[0m\u001b[0;34m]\u001b[0m\u001b[0;34m[\u001b[0m\u001b[0;36m0\u001b[0m\u001b[0;34m]\u001b[0m\u001b[0;34m,\u001b[0m \u001b[0mcmap\u001b[0m\u001b[0;34m=\u001b[0m\u001b[0;34m'gray'\u001b[0m\u001b[0;34m)\u001b[0m\u001b[0;34m\u001b[0m\u001b[0;34m\u001b[0m\u001b[0m\n",
      "\u001b[0;31mNameError\u001b[0m: name 'num' is not defined"
     ]
    },
    {
     "data": {
      "image/png": "[encoded data removed]",
      "text/plain": [
       "<Figure size 540x288 with 10 Axes>"
      ]
     },
     "metadata": {
      "needs_background": "light"
     },
     "output_type": "display_data"
    }
   ],
   "source": [
    "import torch\n",
    "import torch.nn as nn\n",
    "import torchvision\n",
    "import torchvision.transforms as transforms\n",
    "import matplotlib.pyplot as plt\n",
    "%matplotlib inline \n",
    "\n",
    "\n",
    "# Device configuration\n",
    "device = torch.device('cuda' if torch.cuda.is_available() else 'cpu')\n",
    "\n",
    "# Hyper-parameters \n",
    "input_size = 784\n",
    "hidden_size = 500\n",
    "num_classes = 10\n",
    "num_epochs = 5\n",
    "batch_size = 100\n",
    "learning_rate = 0.001\n",
    "\n",
    "# MNIST dataset \n",
    "train_dataset = torchvision.datasets.MNIST(root='./', \n",
    "                                           train=True, \n",
    "                                           transform=transforms.ToTensor())\n",
    "\n",
    "test_dataset = torchvision.datasets.MNIST(root='./', \n",
    "                                          train=False, \n",
    "                                          transform=transforms.ToTensor())\n",
    "\n",
    "# Data loader\n",
    "train_loader = torch.utils.data.DataLoader(dataset=train_dataset, \n",
    "                                           batch_size=batch_size, \n",
    "                                           shuffle=True)\n",
    "\n",
    "test_loader = torch.utils.data.DataLoader(dataset=test_dataset, \n",
    "                                          batch_size=batch_size, \n",
    "                                          shuffle=False)\n",
    "for images, labels in train_loader:\n",
    "    num_row = 2\n",
    "    num_col = 5\n",
    "    fig, axes = plt.subplots(num_row, num_col, \n",
    "                             figsize=(1.5*num_col,2*num_row))\n",
    "    for i in range(num):\n",
    "        ax = axes[i//num_col, i%num_col]\n",
    "        ax.imshow(images[i][0], cmap='gray')\n",
    "        ax.set_title('Label: {}'.format(labels[i]))\n",
    "    plt.tight_layout()\n",
    "    break"
   ]
  },
  {
   "cell_type": "code",
   "execution_count": null,
   "metadata": {},
   "outputs": [],
   "source": []
  }
 ],
 "metadata": {
  "kernelspec": {
   "display_name": "torch",
   "language": "python",
   "name": "torch"
  },
  "language_info": {
   "codemirror_mode": {
    "name": "ipython",
    "version": 3
   },
   "file_extension": ".py",
   "mimetype": "text/x-python",
   "name": "python",
   "nbconvert_exporter": "python",
   "pygments_lexer": "ipython3",
   "version": "3.7.9"
  }
 },
 "nbformat": 4,
 "nbformat_minor": 4
}
