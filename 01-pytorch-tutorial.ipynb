{
 "cells": [
  {
   "cell_type": "markdown",
   "metadata": {},
   "source": [
    "This is a simple pytorch to teach you how to use pytorch. Pytorch is widely used for deep learning and it supports automatically gradient computing. \n",
    "\n",
    "Let see how pytorch works."
   ]
  },
  {
   "cell_type": "markdown",
   "metadata": {},
   "source": [
    "## 1. How to Autograd"
   ]
  },
  {
   "cell_type": "markdown",
   "metadata": {},
   "source": [
    "Since pytorch can compute derivatives automatically (autograd), we show 2 examples of the autograd of pytorch."
   ]
  },
  {
   "cell_type": "markdown",
   "metadata": {},
   "source": [
    "### 1.1 Autograd from Scratch"
   ]
  },
  {
   "cell_type": "code",
   "execution_count": 2,
   "metadata": {},
   "outputs": [],
   "source": [
    "# Import modules\n",
    "import torch # pytorch core module\n",
    "import torchvision # pytorch computer vision module\n",
    "import torch.nn as nn # pytorch standard net module\n",
    "import numpy as np\n",
    "import torchvision.transforms as transforms # scaling function"
   ]
  },
  {
   "cell_type": "markdown",
   "metadata": {},
   "source": [
    "Let us start with the first example, we compute the gradients of `y = w * x + b`"
   ]
  },
  {
   "cell_type": "code",
   "execution_count": 3,
   "metadata": {},
   "outputs": [
    {
     "name": "stdout",
     "output_type": "stream",
     "text": [
      "tensor(2.)\n",
      "tensor(1.)\n",
      "tensor(1.)\n"
     ]
    }
   ],
   "source": [
    "# Create tensors.\n",
    "x = torch.tensor(1., requires_grad=True) # set requires_grad if compute \n",
    "w = torch.tensor(2., requires_grad=True) #                  derivatives\n",
    "b = torch.tensor(3., requires_grad=True)\n",
    "\n",
    "# Build a computational graph.\n",
    "y = w * x + b    # y = 2 * x + 3\n",
    "\n",
    "# Compute gradients.\n",
    "y.backward()\n",
    "\n",
    "# Print out the gradients.\n",
    "print(x.grad)    # x.grad = 2 \n",
    "print(w.grad)    # w.grad = 1 \n",
    "print(b.grad)    # b.grad = 1 "
   ]
  },
  {
   "cell_type": "markdown",
   "metadata": {},
   "source": [
    ">**Remarks:** After you build the computation graph, you can compute gradients by calling `.backward()` for any equation. The attribute `grad` shows the partial derivatives. For example, `x.grad` shows partial derivative of `y` with respect to `x`."
   ]
  },
  {
   "cell_type": "markdown",
   "metadata": {},
   "source": [
    "### 1.2 Autograd with nn.Linear"
   ]
  },
  {
   "cell_type": "markdown",
   "metadata": {},
   "source": [
    "Actually `y = w * x + b` is a simple linear model. We use `nn.Linear` in this example to show how to create a linear model using pytorch standard module:"
   ]
  },
  {
   "cell_type": "code",
   "execution_count": 6,
   "metadata": {},
   "outputs": [
    {
     "name": "stdout",
     "output_type": "stream",
     "text": [
      "w:  Parameter containing:\n",
      "tensor([[-0.3108, -0.2729, -0.5598],\n",
      "        [-0.1254, -0.0949, -0.0153]], requires_grad=True)\n",
      "b:  Parameter containing:\n",
      "tensor([-0.1089, -0.1291], requires_grad=True)\n"
     ]
    }
   ],
   "source": [
    "# Create tensors of shape (10, 3) and (10, 2).\n",
    "x = torch.randn(10, 3)\n",
    "y = torch.randn(10, 2)\n",
    "\n",
    "# Build a fully connected layer.\n",
    "linear = nn.Linear(3, 2)\n",
    "print ('w: ', linear.weight)\n",
    "print ('b: ', linear.bias)"
   ]
  },
  {
   "cell_type": "markdown",
   "metadata": {},
   "source": [
    ">**Remarks**: `w` and `b` are the weights of the linear model. They are intialized with random variables. \n",
    "\n",
    "\n",
    "Now we show how to use the linear model `w*x +b` to approximate `y`:"
   ]
  },
  {
   "cell_type": "code",
   "execution_count": 7,
   "metadata": {},
   "outputs": [
    {
     "name": "stdout",
     "output_type": "stream",
     "text": [
      "loss:  0.7807512283325195\n"
     ]
    }
   ],
   "source": [
    "# Build loss function and optimizer.\n",
    "criterion = nn.MSELoss() # Mean Square Error\n",
    "optimizer = torch.optim.SGD(linear.parameters(), lr=0.01) # Stocastic \n",
    "                                                    #Gradient Descend \n",
    "\n",
    "# Forward pass.\n",
    "pred = linear(x)\n",
    "\n",
    "# Compute loss.\n",
    "loss = criterion(pred, y)\n",
    "print('loss: ', loss.item())"
   ]
  },
  {
   "cell_type": "markdown",
   "metadata": {},
   "source": [
    "**Remarks:** `MSELOSS()` is the loss function called Mean Square Error. `SDG` is the optimizer called Stocastic Gradient Descend. We use the loss function to compute the error between the predicted value of the linear model and ground truth."
   ]
  },
  {
   "cell_type": "markdown",
   "metadata": {},
   "source": [
    "Now we optimze the linear model to make its predicted value closed to `y` as much as possible. Let us do one-step optimization:"
   ]
  },
  {
   "cell_type": "code",
   "execution_count": 8,
   "metadata": {},
   "outputs": [
    {
     "name": "stdout",
     "output_type": "stream",
     "text": [
      "dL/dw:  tensor([[-0.3451,  0.1039, -0.6926],\n",
      "        [-0.5663,  0.1949, -0.7459]])\n",
      "dL/db:  tensor([-0.4857, -0.4996])\n",
      "loss after 1 step optimization:  0.7608612775802612\n"
     ]
    }
   ],
   "source": [
    "# Backward pass.\n",
    "loss.backward()\n",
    "\n",
    "# Print out the gradients.\n",
    "print ('dL/dw: ', linear.weight.grad) \n",
    "print ('dL/db: ', linear.bias.grad)\n",
    "\n",
    "# 1-step gradient descent.\n",
    "optimizer.step()\n",
    "\n",
    "# You can also perform gradient descent at the low level.\n",
    "# linear.weight.data.sub_(0.01 * linear.weight.grad.data)\n",
    "# linear.bias.data.sub_(0.01 * linear.bias.grad.data)\n",
    "\n",
    "# Print out the loss after 1-step gradient descent.\n",
    "pred = linear(x)\n",
    "loss = criterion(pred, y)\n",
    "print('loss after 1 step optimization: ', loss.item())"
   ]
  },
  {
   "cell_type": "markdown",
   "metadata": {},
   "source": [
    "Let us do 10-step optimization:"
   ]
  },
  {
   "cell_type": "code",
   "execution_count": 9,
   "metadata": {},
   "outputs": [
    {
     "name": "stdout",
     "output_type": "stream",
     "text": [
      "loss after 1 step optimization:  0.585281252861023\n"
     ]
    }
   ],
   "source": [
    "for i in range(10):\n",
    "    optimizer.step()\n",
    "\n",
    "# Print out the loss after 10-step gradient descent.\n",
    "pred = linear(x)\n",
    "loss = criterion(pred, y)\n",
    "print('loss after 10 step optimization: ', loss.item())"
   ]
  },
  {
   "cell_type": "markdown",
   "metadata": {},
   "source": [
    "**Remarks:** Now you can find that the as the steps of optimization increases, the loss decreases. And that means the prediction is more accurate with optimization"
   ]
  },
  {
   "cell_type": "markdown",
   "metadata": {},
   "source": [
    "## 2.How to create torch tensor from numpy\n",
    "\n",
    "Now we show how to create a tensor from numpy array:"
   ]
  },
  {
   "cell_type": "code",
   "execution_count": 14,
   "metadata": {},
   "outputs": [
    {
     "name": "stdout",
     "output_type": "stream",
     "text": [
      "x: [[1 2]\n",
      " [3 4]]\n",
      "y: tensor([[1, 2],\n",
      "        [3, 4]])\n",
      "z: [[1 2]\n",
      " [3 4]]\n"
     ]
    }
   ],
   "source": [
    "# Create a numpy array.\n",
    "x = np.array([[1, 2], [3, 4]])\n",
    "\n",
    "# Convert the numpy array to a torch tensor.\n",
    "y = torch.from_numpy(x)\n",
    "\n",
    "# Convert the torch tensor to a numpy array.\n",
    "z = y.numpy()\n",
    "\n",
    "print(f'x: {x}')\n",
    "print(f'y: {y}')\n",
    "print(f'z: {z}')"
   ]
  },
  {
   "cell_type": "markdown",
   "metadata": {},
   "source": [
    "## 3. Deep Learning for MNIST dataset"
   ]
  },
  {
   "cell_type": "markdown",
   "metadata": {},
   "source": [
    "MNIST dataset is a large database for handwritten digits. Here is the [WIKI link](https://en.wikipedia.org/wiki/MNIST_database). In AI area, MNIST dataset is like \"HelloWorld\" Dataset for the classfication task.\n",
    "\n",
    "The MNIST is a bunch of gray-scale handwritten digits with outputs that are ranging from 0, 1, 2, 3 and so on through 9. Each of these images is 28 by 28 pixels in size and the goal is to identify what the number is in these images.\n",
    "\n",
    "Having a detailed look at the documentation, each of the images is labeled with the digit that’s in that image. To access this dataset we will use the Torchvision package which came along when we were installing PyTorch. This library provides us with datasets, and models for tackling computer vision problems.\n",
    "\n",
    "\n",
    ">*Do you know that 25 years ago MNIST was the hardest problem in Computer Vision at the time? 🙂 check out this amazing video of Yann LeCun* \n",
    "“”\n",
    "[![https://lh3.googleusercontent.com/proxy/3QXetsAzSG6rPRsrhUYpNTJc06vMTCMER6vqrSIDqyLBWIyE286xmNgjbYzvH2mf15a3bOGnAUeEPAnkwdE0iDfzKRSDHw4bPH83F3P-WTSfWwqbvTYdwyk](http://img.youtube.com/vi/YOUTUBE_VIDEO_ID_HERE/0.jpg)](https://youtu.be/FwFduRA_L6Q)"
   ]
  },
  {
   "cell_type": "markdown",
   "metadata": {},
   "source": [
    "### 3.1 Download Mnist Dataset (Optional)\n",
    "\n",
    "You can **skip** this process since Mnist dataset have been included in our github repository. Here just show you how to download from Internet if you do not have local MNIST dataset."
   ]
  },
  {
   "cell_type": "code",
   "execution_count": 19,
   "metadata": {},
   "outputs": [
    {
     "name": "stdout",
     "output_type": "stream",
     "text": [
      "\u001b[4;31mError\u001b[0m: \n",
      "  homebrew-core is a shallow clone.\n",
      "To `brew update`, first run:\n",
      "  git -C /usr/local/Homebrew/Library/Taps/homebrew/homebrew-core fetch --unshallow\n",
      "This command may take a few minutes to run due to the large size of the repository.\n",
      "This restriction has been made on GitHub's request because updating shallow\n",
      "clones is an extremely expensive operation due to the tree layout and traffic of\n",
      "Homebrew/homebrew-core and Homebrew/homebrew-cask. We don't do this for you\n",
      "automatically to avoid repeatedly performing an expensive unshallow operation in\n",
      "CI systems (which should instead be fixed to not use shallow clones). Sorry for\n",
      "the inconvenience!\n",
      "\u001b[34m==>\u001b[0m \u001b[1mDownloading https://homebrew.bintray.com/bottles/wget-1.21.1.big_sur.bottle.\u001b[0m\n",
      "\u001b[34m==>\u001b[0m \u001b[1mDownloading from https://d29vzk4ow07wi7.cloudfront.net/e6ea2a50b8196206f7072\u001b[0m\n",
      "######################################################################## 100.0%\n",
      "\u001b[34m==>\u001b[0m \u001b[1mPouring wget-1.21.1.big_sur.bottle.tar.gz\u001b[0m\n",
      "🍺  /usr/local/Cellar/wget/1.21.1: 88 files, 4MB\n",
      "\u001b[34m==>\u001b[0m \u001b[1m`brew cleanup` has not been run in 30 days, running now...\u001b[0m\n",
      "Removing: /usr/local/Cellar/aom/1.0.0... (19 files, 12.4MB)\n",
      "Removing: /usr/local/Cellar/aom/2.0.0... (19 files, 16.1MB)\n",
      "Removing: /usr/local/Cellar/bdw-gc/8.0.4... (69 files, 1.5MB)\n",
      "Removing: /usr/local/Cellar/cairo/1.16.0_3... (117 files, 5.7MB)\n",
      "Removing: /usr/local/Cellar/dav1d/0.7.1... (15 files, 1.4MB)\n",
      "Removing: /usr/local/Cellar/freetype/2.10.1... (61 files, 2.2MB)\n",
      "Removing: /usr/local/Cellar/freetype/2.10.3... (64 files, 2.3MB)\n",
      "Removing: /usr/local/Cellar/glib/2.66.1... (436 files, 15.5MB)\n",
      "Removing: /usr/local/Cellar/gobject-introspection/1.66.1... (191 files, 12.7MB)\n",
      "Removing: /usr/local/Cellar/harfbuzz/2.7.2... (68 files, 6.2MB)\n",
      "Removing: /usr/local/Cellar/libass/0.14.0_1... (10 files, 522KB)\n",
      "Removing: /usr/local/Cellar/libbluray/1.1.2... (21 files, 1.5MB)\n",
      "Removing: /usr/local/Cellar/libbluray/1.2.0... (21 files, 1.6MB)\n",
      "Removing: /usr/local/Cellar/libffi/3.2.1... (16 files, 300.7KB)\n",
      "Removing: /usr/local/Cellar/libffi/3.3... (16 files, 489.4KB)\n",
      "Removing: /usr/local/Cellar/libsndfile/1.0.28... (48 files, 1.9MB)\n",
      "Removing: /usr/local/Cellar/libsndfile/1.0.30... (49 files, 1.7MB)\n",
      "Removing: /usr/local/Cellar/libtasn1/4.14... (59 files, 399.9KB)\n",
      "Removing: /usr/local/Cellar/libtasn1/4.16.0... (60 files, 404.5KB)\n",
      "Removing: /usr/local/Cellar/libtiff/4.1.0... (247 files, 3.7MB)\n",
      "Removing: /usr/local/Cellar/little-cms2/2.11... (21 files, 1MB)\n",
      "Removing: /usr/local/Cellar/little-cms2/2.9... (18 files, 1MB)\n",
      "Removing: /usr/local/Cellar/openjpeg/2.3.1... (516 files, 13.9MB)\n",
      "Removing: /usr/local/Cellar/openssl@1.1/1.1.1g... (8,059 files, 18MB)\n",
      "Removing: /usr/local/Cellar/openssl@1.1/1.1.1h... (8,067 files, 18.5MB)\n",
      "Removing: /usr/local/Cellar/p11-kit/0.23.18.1... (63 files, 2.9MB)\n",
      "Removing: /usr/local/Cellar/p11-kit/0.23.21... (63 files, 3.0MB)\n",
      "Removing: /usr/local/Cellar/rav1e/0.3.4... (13 files, 66.5MB)\n",
      "Removing: /usr/local/Cellar/readline/8.0.4... (48 files, 1.5MB)\n",
      "Removing: /usr/local/Cellar/sdl2/2.0.10... (87 files, 4.6MB)\n",
      "Removing: /usr/local/Cellar/sdl2/2.0.12_1... (89 files, 4.7MB)\n",
      "Removing: /usr/local/Cellar/sqlite/3.31.1... (11 files, 4MB)\n",
      "Removing: /usr/local/Cellar/sqlite/3.33.0... (11 files, 4MB)\n",
      "Removing: /usr/local/Cellar/unbound/1.12.0... (57 files, 5.4MB)\n",
      "Removing: /usr/local/Cellar/webp/1.0.3... (39 files, 2.1MB)\n",
      "Removing: /usr/local/Cellar/webp/1.1.0... (39 files, 2.1MB)\n",
      "Removing: /usr/local/Cellar/x264/r2917_1... (11 files, 5.9MB)\n",
      "Removing: /usr/local/Cellar/x264/r3011... (11 files, 5.8MB)\n",
      "Removing: /usr/local/Cellar/x265/3.2.1... (11 files, 35.2MB)\n",
      "Removing: /usr/local/Cellar/x265/3.4... (11 files, 35.5MB)\n",
      "Removing: /Users/linhongbin/Library/Logs/Homebrew/libtiff... (64B)\n",
      "Removing: /Users/linhongbin/Library/Logs/Homebrew/ffmpeg... (64B)\n",
      "Removing: /Users/linhongbin/Library/Logs/Homebrew/mpich... (64B)\n",
      "Removing: /Users/linhongbin/Library/Logs/Homebrew/nghttp2... (64B)\n",
      "Removing: /Users/linhongbin/Library/Logs/Homebrew/little-cms2... (64B)\n",
      "Removing: /Users/linhongbin/Library/Logs/Homebrew/nettle... (64B)\n",
      "Removing: /Users/linhongbin/Library/Logs/Homebrew/freetype... (64B)\n",
      "Removing: /Users/linhongbin/Library/Logs/Homebrew/mpfr... (64B)\n",
      "Removing: /Users/linhongbin/Library/Logs/Homebrew/openjpeg... (64B)\n",
      "Removing: /Users/linhongbin/Library/Logs/Homebrew/zimg... (64B)\n",
      "Removing: /Users/linhongbin/Library/Logs/Homebrew/jemalloc... (64B)\n",
      "Removing: /Users/linhongbin/Library/Logs/Homebrew/bdw-gc... (64B)\n",
      "Removing: /Users/linhongbin/Library/Logs/Homebrew/zeromq... (64B)\n",
      "Removing: /Users/linhongbin/Library/Logs/Homebrew/harfbuzz... (64B)\n",
      "Removing: /Users/linhongbin/Library/Logs/Homebrew/libbluray... (64B)\n",
      "Removing: /Users/linhongbin/Library/Logs/Homebrew/glib... (64B)\n",
      "Removing: /Users/linhongbin/Library/Logs/Homebrew/readline... (64B)\n",
      "Removing: /Users/linhongbin/Library/Logs/Homebrew/aom... (64B)\n",
      "Removing: /Users/linhongbin/Library/Logs/Homebrew/gcc... (64B)\n",
      "Removing: /Users/linhongbin/Library/Logs/Homebrew/cairo... (64B)\n",
      "Removing: /Users/linhongbin/Library/Logs/Homebrew/webp... (64B)\n",
      "Removing: /Users/linhongbin/Library/Logs/Homebrew/sqlite... (64B)\n",
      "Removing: /Users/linhongbin/Library/Logs/Homebrew/c-ares... (64B)\n",
      "Removing: /Users/linhongbin/Library/Logs/Homebrew/gobject-introspection... (64B)\n",
      "Removing: /Users/linhongbin/Library/Logs/Homebrew/tcl-tk... (64B)\n",
      "Removing: /Users/linhongbin/Library/Logs/Homebrew/libsodium... (64B)\n",
      "Removing: /Users/linhongbin/Library/Logs/Homebrew/dav1d... (64B)\n",
      "Removing: /Users/linhongbin/Library/Logs/Homebrew/rav1e... (64B)\n",
      "Removing: /Users/linhongbin/Library/Logs/Homebrew/libtasn1... (64B)\n",
      "Removing: /Users/linhongbin/Library/Logs/Homebrew/isl... (64B)\n",
      "Removing: /Users/linhongbin/Library/Logs/Homebrew/openssl@1.1... (64B)\n",
      "Removing: /Users/linhongbin/Library/Logs/Homebrew/x264... (64B)\n",
      "Removing: /Users/linhongbin/Library/Logs/Homebrew/x265... (64B)\n",
      "Removing: /Users/linhongbin/Library/Logs/Homebrew/unbound... (64B)\n",
      "Removing: /Users/linhongbin/Library/Logs/Homebrew/sdl2... (64B)\n",
      "Removing: /Users/linhongbin/Library/Logs/Homebrew/libass... (64B)\n",
      "Removing: /Users/linhongbin/Library/Logs/Homebrew/guile... (64B)\n",
      "Removing: /Users/linhongbin/Library/Logs/Homebrew/libsndfile... (64B)\n",
      "Removing: /Users/linhongbin/Library/Logs/Homebrew/p11-kit... (64B)\n",
      "Removing: /Users/linhongbin/Library/Logs/Homebrew/libev... (64B)\n",
      "Removing: /Users/linhongbin/Library/Logs/Homebrew/libffi... (64B)\n",
      "Removing: /Users/linhongbin/Library/Logs/Homebrew/python@3.9... (3 files, 718.6KB)\n",
      "Removing: /Users/linhongbin/Library/Logs/Homebrew/libmpc... (64B)\n",
      "Pruned 0 symbolic links and 10 directories from /usr/local\n"
     ]
    }
   ],
   "source": [
    "## install wget  (uncomment the line based on your local computer system)\n",
    "\n",
    "!brew install wget # for mac\n",
    "# !sudo apt-get install wget # for ubuntu"
   ]
  },
  {
   "cell_type": "code",
   "execution_count": 20,
   "metadata": {},
   "outputs": [
    {
     "name": "stdout",
     "output_type": "stream",
     "text": [
      "--2021-03-27 16:03:28--  http://www.di.ens.fr/~lelarge/MNIST.tar.gz\n",
      "Resolving www.di.ens.fr (www.di.ens.fr)... 129.199.99.14\n",
      "Connecting to www.di.ens.fr (www.di.ens.fr)|129.199.99.14|:80... connected.\n",
      "HTTP request sent, awaiting response... 302 Found\n",
      "Location: https://www.di.ens.fr/~lelarge/MNIST.tar.gz [following]\n",
      "--2021-03-27 16:03:29--  https://www.di.ens.fr/~lelarge/MNIST.tar.gz\n",
      "Connecting to www.di.ens.fr (www.di.ens.fr)|129.199.99.14|:443... connected.\n",
      "HTTP request sent, awaiting response... 200 OK\n",
      "Length: unspecified [application/x-gzip]\n",
      "Saving to: ‘MNIST.tar.gz’\n",
      "\n",
      "MNIST.tar.gz            [                <=> ]  33.20M  3.59MB/s    in 20s     \n",
      "\n",
      "2021-03-27 16:03:50 (1.69 MB/s) - ‘MNIST.tar.gz’ saved [34813078]\n",
      "\n",
      "x MNIST/\n",
      "x MNIST/raw/\n",
      "x MNIST/raw/train-labels-idx1-ubyte\n",
      "x MNIST/raw/t10k-labels-idx1-ubyte.gz\n",
      "x MNIST/raw/t10k-labels-idx1-ubyte\n",
      "x MNIST/raw/t10k-images-idx3-ubyte.gz\n",
      "x MNIST/raw/train-images-idx3-ubyte\n",
      "x MNIST/raw/train-labels-idx1-ubyte.gz\n",
      "x MNIST/raw/t10k-images-idx3-ubyte\n",
      "x MNIST/raw/train-images-idx3-ubyte.gz\n",
      "x MNIST/processed/\n",
      "x MNIST/processed/training.pt\n",
      "x MNIST/processed/test.pt\n"
     ]
    }
   ],
   "source": [
    "!wget www.di.ens.fr/~lelarge/MNIST.tar.gz # wget download dataset\n",
    "!tar -zxvf MNIST.tar.gz # unzip the downloaded file"
   ]
  },
  {
   "cell_type": "markdown",
   "metadata": {},
   "source": [
    "## 3.2 Load Mnist Dataset"
   ]
  },
  {
   "cell_type": "code",
   "execution_count": null,
   "metadata": {},
   "outputs": [],
   "source": [
    "# load python modules\n",
    "import torch\n",
    "import torch.nn as nn\n",
    "import torchvision\n",
    "import torchvision.transforms as transforms\n",
    "import matplotlib.pyplot as plt\n",
    "%matplotlib inline "
   ]
  },
  {
   "cell_type": "code",
   "execution_count": 30,
   "metadata": {},
   "outputs": [],
   "source": [
    "# Device configuration\n",
    "device = torch.device('cuda' if torch.cuda.is_available() else 'cpu')\n",
    "\n",
    "# Hyper-parameters \n",
    "input_size = 784\n",
    "hidden_size = 500\n",
    "num_classes = 10\n",
    "num_epochs = 5\n",
    "batch_size = 100\n",
    "learning_rate = 0.001"
   ]
  },
  {
   "cell_type": "code",
   "execution_count": 31,
   "metadata": {},
   "outputs": [],
   "source": [
    "## load Mnist dataset\n",
    "\n",
    "# MNIST dataset \n",
    "train_dataset = torchvision.datasets.MNIST(root='./', \n",
    "                                           train=True, \n",
    "                                           transform=transforms.ToTensor())\n",
    "\n",
    "test_dataset = torchvision.datasets.MNIST(root='./', \n",
    "                                          train=False, \n",
    "                                          transform=transforms.ToTensor())\n",
    "\n",
    "# Data loader\n",
    "train_loader = torch.utils.data.DataLoader(dataset=train_dataset, \n",
    "                                           batch_size=batch_size, \n",
    "                                           shuffle=True)\n",
    "\n",
    "test_loader = torch.utils.data.DataLoader(dataset=test_dataset, \n",
    "                                          batch_size=batch_size, \n",
    "                                          shuffle=False)\n"
   ]
  },
  {
   "cell_type": "markdown",
   "metadata": {},
   "source": [
    "Let us check the input and the shape of input"
   ]
  },
  {
   "cell_type": "code",
   "execution_count": 38,
   "metadata": {},
   "outputs": [
    {
     "name": "stdout",
     "output_type": "stream",
     "text": [
      "tensor([[[0.0000, 0.0000, 0.0000, 0.0000, 0.0000, 0.0000, 0.0000, 0.0000,\n",
      "          0.0000, 0.0000, 0.0000, 0.0000, 0.0000, 0.0000, 0.0000, 0.0000,\n",
      "          0.0000, 0.0000, 0.0000, 0.0000, 0.0000, 0.0000, 0.0000, 0.0000,\n",
      "          0.0000, 0.0000, 0.0000, 0.0000],\n",
      "         [0.0000, 0.0000, 0.0000, 0.0000, 0.0000, 0.0000, 0.0000, 0.0000,\n",
      "          0.0000, 0.0000, 0.0000, 0.0000, 0.0000, 0.0000, 0.0000, 0.0000,\n",
      "          0.0000, 0.0000, 0.0000, 0.0000, 0.0000, 0.0000, 0.0000, 0.0000,\n",
      "          0.0000, 0.0000, 0.0000, 0.0000],\n",
      "         [0.0000, 0.0000, 0.0000, 0.0000, 0.0000, 0.0000, 0.0000, 0.0000,\n",
      "          0.0000, 0.0000, 0.0000, 0.0000, 0.0000, 0.0000, 0.0000, 0.0000,\n",
      "          0.0000, 0.0000, 0.0000, 0.0000, 0.0000, 0.0000, 0.0000, 0.0000,\n",
      "          0.0000, 0.0000, 0.0000, 0.0000],\n",
      "         [0.0000, 0.0000, 0.0000, 0.0000, 0.0000, 0.0000, 0.0000, 0.0000,\n",
      "          0.0000, 0.0000, 0.0000, 0.0000, 0.0000, 0.0000, 0.0000, 0.0000,\n",
      "          0.0000, 0.0000, 0.0000, 0.0000, 0.0000, 0.0000, 0.0000, 0.0000,\n",
      "          0.0000, 0.0000, 0.0000, 0.0000],\n",
      "         [0.0000, 0.0000, 0.0000, 0.0000, 0.0000, 0.0000, 0.0000, 0.0000,\n",
      "          0.0000, 0.0000, 0.0000, 0.0000, 0.0000, 0.0000, 0.0000, 0.0000,\n",
      "          0.0000, 0.0000, 0.0000, 0.0000, 0.0000, 0.0000, 0.7765, 0.5216,\n",
      "          0.0000, 0.0000, 0.0000, 0.0000],\n",
      "         [0.0000, 0.0000, 0.0000, 0.0000, 0.0000, 0.0000, 0.0000, 0.0000,\n",
      "          0.0000, 0.0000, 0.0000, 0.0000, 0.0000, 0.0000, 0.0000, 0.0000,\n",
      "          0.0000, 0.0000, 0.0000, 0.0000, 0.0000, 0.4431, 0.9137, 0.1255,\n",
      "          0.0000, 0.0000, 0.0000, 0.0000],\n",
      "         [0.0000, 0.0000, 0.0000, 0.0000, 0.0000, 0.0000, 0.0000, 0.0000,\n",
      "          0.0000, 0.0000, 0.0000, 0.0000, 0.0000, 0.0000, 0.0000, 0.0000,\n",
      "          0.0000, 0.0000, 0.0000, 0.0000, 0.0000, 0.6902, 0.5725, 0.0000,\n",
      "          0.0000, 0.0000, 0.0000, 0.0000],\n",
      "         [0.0000, 0.0000, 0.0000, 0.0000, 0.0000, 0.0000, 0.0000, 0.0000,\n",
      "          0.0000, 0.0392, 0.3333, 0.1647, 0.0000, 0.0000, 0.0000, 0.0000,\n",
      "          0.0000, 0.0000, 0.0000, 0.0000, 0.0745, 0.9725, 0.4588, 0.0000,\n",
      "          0.0000, 0.0000, 0.0000, 0.0000],\n",
      "         [0.0000, 0.0000, 0.0000, 0.0000, 0.0000, 0.0000, 0.0000, 0.0000,\n",
      "          0.0000, 0.2314, 0.9333, 0.0706, 0.0000, 0.0000, 0.0000, 0.0000,\n",
      "          0.0000, 0.0000, 0.0000, 0.0000, 0.2275, 0.9961, 0.1608, 0.0000,\n",
      "          0.0000, 0.0000, 0.0000, 0.0000],\n",
      "         [0.0000, 0.0000, 0.0000, 0.0000, 0.0000, 0.0000, 0.0000, 0.0000,\n",
      "          0.0000, 0.4706, 0.9216, 0.0000, 0.0000, 0.0000, 0.0000, 0.0000,\n",
      "          0.0000, 0.0000, 0.0000, 0.0000, 0.8471, 0.6000, 0.0000, 0.0000,\n",
      "          0.0000, 0.0000, 0.0000, 0.0000],\n",
      "         [0.0000, 0.0000, 0.0000, 0.0000, 0.0000, 0.0000, 0.0000, 0.0000,\n",
      "          0.0314, 0.9412, 0.7098, 0.0000, 0.0000, 0.0000, 0.0000, 0.0000,\n",
      "          0.0000, 0.0000, 0.0000, 0.1098, 0.9137, 0.3059, 0.0000, 0.0000,\n",
      "          0.0000, 0.0000, 0.0000, 0.0000],\n",
      "         [0.0000, 0.0000, 0.0000, 0.0000, 0.0000, 0.0000, 0.0000, 0.0000,\n",
      "          0.3882, 0.9255, 0.1059, 0.0000, 0.0000, 0.0000, 0.0000, 0.0000,\n",
      "          0.0000, 0.0000, 0.0000, 0.6157, 0.9412, 0.0941, 0.0000, 0.0000,\n",
      "          0.0000, 0.0000, 0.0000, 0.0000],\n",
      "         [0.0000, 0.0000, 0.0000, 0.0000, 0.0000, 0.0000, 0.0000, 0.1451,\n",
      "          0.8627, 0.7098, 0.0000, 0.0000, 0.0000, 0.0000, 0.0000, 0.0000,\n",
      "          0.0000, 0.0000, 0.0000, 0.9961, 0.6510, 0.0000, 0.0000, 0.0000,\n",
      "          0.0000, 0.0000, 0.0000, 0.0000],\n",
      "         [0.0000, 0.0000, 0.0000, 0.0000, 0.0000, 0.0000, 0.0000, 0.6863,\n",
      "          0.8471, 0.0902, 0.0000, 0.0000, 0.0000, 0.0000, 0.0000, 0.0000,\n",
      "          0.0000, 0.0000, 0.2980, 1.0000, 0.1529, 0.0000, 0.0000, 0.0000,\n",
      "          0.0000, 0.0000, 0.0000, 0.0000],\n",
      "         [0.0000, 0.0000, 0.0000, 0.0000, 0.0000, 0.1373, 0.8824, 1.0000,\n",
      "          0.5529, 0.2353, 0.2314, 0.2314, 0.5843, 0.3216, 0.2353, 0.2157,\n",
      "          0.0000, 0.0000, 0.6235, 0.8588, 0.0588, 0.0000, 0.0000, 0.0000,\n",
      "          0.0000, 0.0000, 0.0000, 0.0000],\n",
      "         [0.0000, 0.0000, 0.0000, 0.0000, 0.1686, 0.8549, 0.9961, 0.9216,\n",
      "          0.9176, 0.9216, 0.9176, 0.9176, 0.9176, 0.9176, 0.9216, 0.9725,\n",
      "          0.8431, 0.8431, 0.9608, 0.7843, 0.0431, 0.0000, 0.0000, 0.0000,\n",
      "          0.0000, 0.0000, 0.0000, 0.0000],\n",
      "         [0.0000, 0.0000, 0.0000, 0.0000, 0.9961, 0.7020, 0.3059, 0.0235,\n",
      "          0.0000, 0.0000, 0.0000, 0.0000, 0.0000, 0.0000, 0.0000, 0.2588,\n",
      "          0.4549, 0.6745, 0.9961, 0.9961, 0.6824, 0.0000, 0.0000, 0.0000,\n",
      "          0.0000, 0.0000, 0.0000, 0.0000],\n",
      "         [0.0000, 0.0000, 0.0000, 0.0000, 0.0745, 0.0118, 0.0000, 0.0000,\n",
      "          0.0000, 0.0000, 0.0000, 0.0000, 0.0000, 0.0000, 0.0000, 0.0000,\n",
      "          0.0000, 0.5961, 0.9333, 0.0745, 0.0431, 0.0000, 0.0000, 0.0000,\n",
      "          0.0000, 0.0000, 0.0000, 0.0000],\n",
      "         [0.0000, 0.0000, 0.0000, 0.0000, 0.0000, 0.0000, 0.0000, 0.0000,\n",
      "          0.0000, 0.0000, 0.0000, 0.0000, 0.0000, 0.0000, 0.0000, 0.0000,\n",
      "          0.0000, 0.9216, 0.6078, 0.0000, 0.0000, 0.0000, 0.0000, 0.0000,\n",
      "          0.0000, 0.0000, 0.0000, 0.0000],\n",
      "         [0.0000, 0.0000, 0.0000, 0.0000, 0.0000, 0.0000, 0.0000, 0.0000,\n",
      "          0.0000, 0.0000, 0.0000, 0.0000, 0.0000, 0.0000, 0.0000, 0.0000,\n",
      "          0.3098, 0.9608, 0.1765, 0.0000, 0.0000, 0.0000, 0.0000, 0.0000,\n",
      "          0.0000, 0.0000, 0.0000, 0.0000],\n",
      "         [0.0000, 0.0000, 0.0000, 0.0000, 0.0000, 0.0000, 0.0000, 0.0000,\n",
      "          0.0000, 0.0000, 0.0000, 0.0000, 0.0000, 0.0000, 0.0000, 0.0000,\n",
      "          0.4863, 0.8392, 0.0000, 0.0000, 0.0000, 0.0000, 0.0000, 0.0000,\n",
      "          0.0000, 0.0000, 0.0000, 0.0000],\n",
      "         [0.0000, 0.0000, 0.0000, 0.0000, 0.0000, 0.0000, 0.0000, 0.0000,\n",
      "          0.0000, 0.0000, 0.0000, 0.0000, 0.0000, 0.0000, 0.0000, 0.0549,\n",
      "          0.9020, 0.4588, 0.0000, 0.0000, 0.0000, 0.0000, 0.0000, 0.0000,\n",
      "          0.0000, 0.0000, 0.0000, 0.0000],\n",
      "         [0.0000, 0.0000, 0.0000, 0.0000, 0.0000, 0.0000, 0.0000, 0.0000,\n",
      "          0.0000, 0.0000, 0.0000, 0.0000, 0.0000, 0.0000, 0.0000, 0.4353,\n",
      "          0.8275, 0.0353, 0.0000, 0.0000, 0.0000, 0.0000, 0.0000, 0.0000,\n",
      "          0.0000, 0.0000, 0.0000, 0.0000],\n",
      "         [0.0000, 0.0000, 0.0000, 0.0000, 0.0000, 0.0000, 0.0000, 0.0000,\n",
      "          0.0000, 0.0000, 0.0000, 0.0000, 0.0000, 0.0000, 0.0000, 0.6078,\n",
      "          0.6863, 0.0000, 0.0000, 0.0000, 0.0000, 0.0000, 0.0000, 0.0000,\n",
      "          0.0000, 0.0000, 0.0000, 0.0000],\n",
      "         [0.0000, 0.0000, 0.0000, 0.0000, 0.0000, 0.0000, 0.0000, 0.0000,\n",
      "          0.0000, 0.0000, 0.0000, 0.0000, 0.0000, 0.0000, 0.0000, 0.0000,\n",
      "          0.0000, 0.0000, 0.0000, 0.0000, 0.0000, 0.0000, 0.0000, 0.0000,\n",
      "          0.0000, 0.0000, 0.0000, 0.0000],\n",
      "         [0.0000, 0.0000, 0.0000, 0.0000, 0.0000, 0.0000, 0.0000, 0.0000,\n",
      "          0.0000, 0.0000, 0.0000, 0.0000, 0.0000, 0.0000, 0.0000, 0.0000,\n",
      "          0.0000, 0.0000, 0.0000, 0.0000, 0.0000, 0.0000, 0.0000, 0.0000,\n",
      "          0.0000, 0.0000, 0.0000, 0.0000],\n",
      "         [0.0000, 0.0000, 0.0000, 0.0000, 0.0000, 0.0000, 0.0000, 0.0000,\n",
      "          0.0000, 0.0000, 0.0000, 0.0000, 0.0000, 0.0000, 0.0000, 0.0000,\n",
      "          0.0000, 0.0000, 0.0000, 0.0000, 0.0000, 0.0000, 0.0000, 0.0000,\n",
      "          0.0000, 0.0000, 0.0000, 0.0000],\n",
      "         [0.0000, 0.0000, 0.0000, 0.0000, 0.0000, 0.0000, 0.0000, 0.0000,\n",
      "          0.0000, 0.0000, 0.0000, 0.0000, 0.0000, 0.0000, 0.0000, 0.0000,\n",
      "          0.0000, 0.0000, 0.0000, 0.0000, 0.0000, 0.0000, 0.0000, 0.0000,\n",
      "          0.0000, 0.0000, 0.0000, 0.0000]]])\n"
     ]
    }
   ],
   "source": [
    "for images, labels in train_loader:\n",
    "    print(images[0]) # print the input data for the 1st data point\n",
    "    break"
   ]
  },
  {
   "cell_type": "code",
   "execution_count": 39,
   "metadata": {},
   "outputs": [
    {
     "name": "stdout",
     "output_type": "stream",
     "text": [
      "torch.Size([1, 28, 28])\n"
     ]
    }
   ],
   "source": [
    "for images, labels in train_loader:\n",
    "    print(images[0].shape) # print the input data for the 1st data point\n",
    "    break"
   ]
  },
  {
   "cell_type": "markdown",
   "metadata": {},
   "source": [
    "**Remarks:** The dimension of input data is 1x28x28, which is 3 dimensional. "
   ]
  },
  {
   "cell_type": "code",
   "execution_count": 47,
   "metadata": {},
   "outputs": [
    {
     "name": "stdout",
     "output_type": "stream",
     "text": [
      "tensor(8)\n",
      "tensor(0)\n",
      "tensor(7)\n",
      "tensor(9)\n",
      "tensor(1)\n"
     ]
    }
   ],
   "source": [
    "for images, labels in train_loader:\n",
    "    for j in range(5):\n",
    "        print(labels[j]) # print the Output data for the 1st data point\n",
    "    break"
   ]
  },
  {
   "cell_type": "markdown",
   "metadata": {},
   "source": [
    "**Remarks:** The output is 1 dimensional integer data in the range of 0~9.\n",
    "\n",
    "Let visualize the input data to get some insights:"
   ]
  },
  {
   "cell_type": "code",
   "execution_count": 32,
   "metadata": {},
   "outputs": [
    {
     "data": {
      "image/png": "[encoded data removed]",
      "text/plain": [
       "<Figure size 540x288 with 10 Axes>"
      ]
     },
     "metadata": {
      "needs_background": "light"
     },
     "output_type": "display_data"
    }
   ],
   "source": [
    "## plot the first 10 data in the dataset\n",
    "for images, labels in train_loader:\n",
    "    num_row = 2\n",
    "    num_col = 5\n",
    "    fig, axes = plt.subplots(num_row, num_col, \n",
    "                             figsize=(1.5*num_col,2*num_row))\n",
    "    for i in range(10):\n",
    "        ax = axes[i//num_col, i%num_col]\n",
    "        ax.imshow(images[i][0], cmap='gray')\n",
    "        ax.set_title('Label: {}'.format(labels[i]))\n",
    "    plt.tight_layout()\n",
    "    break"
   ]
  },
  {
   "cell_type": "markdown",
   "metadata": {},
   "source": [
    "**Remarks:** The input data is easy for human to recogize, but it is extremely hard for machine to recogize. So our job is to endow machine with the ability of understanding the relationship between the numbers of input and output data.\n",
    "\n",
    "Let us define a Feedforward neural network:"
   ]
  },
  {
   "cell_type": "markdown",
   "metadata": {},
   "source": [
    "## 3.3 Feedforward Neural Network"
   ]
  },
  {
   "cell_type": "code",
   "execution_count": 33,
   "metadata": {},
   "outputs": [],
   "source": [
    "# Fully connected neural network with one hidden layer\n",
    "class NeuralNet(nn.Module):\n",
    "    def __init__(self, input_size, hidden_size, num_classes):\n",
    "        super(NeuralNet, self).__init__()\n",
    "        self.fc1 = nn.Linear(input_size, hidden_size) \n",
    "        self.relu = nn.ReLU()\n",
    "        self.fc2 = nn.Linear(hidden_size, num_classes)  \n",
    "    \n",
    "    def forward(self, x):\n",
    "        out = self.fc1(x)\n",
    "        out = self.relu(out)\n",
    "        out = self.fc2(out)\n",
    "        return out\n"
   ]
  },
  {
   "cell_type": "code",
   "execution_count": 51,
   "metadata": {},
   "outputs": [],
   "source": [
    "## create instances\n",
    "\n",
    "model = NeuralNet(input_size, hidden_size, num_classes).to(device)\n",
    "\n",
    "# Loss and optimizer\n",
    "criterion = nn.CrossEntropyLoss()\n",
    "optimizer = torch.optim.Adam(model.parameters(), lr=learning_rate) "
   ]
  },
  {
   "cell_type": "markdown",
   "metadata": {},
   "source": [
    "Now we define a function to evaluate our neural network performance on test dataset:"
   ]
  },
  {
   "cell_type": "code",
   "execution_count": 62,
   "metadata": {},
   "outputs": [],
   "source": [
    "def evaluate():\n",
    "# Test the model\n",
    "# In test phase, we don't need to compute gradients (for memory efficiency)\n",
    "    with torch.no_grad():\n",
    "        correct = 0\n",
    "        total = 0\n",
    "        for images, labels in test_loader:\n",
    "            images = images.reshape(-1, 28*28).to(device)\n",
    "            labels = labels.to(device)\n",
    "            outputs = model(images)\n",
    "            _, predicted = torch.max(outputs.data, 1)\n",
    "            total += labels.size(0)\n",
    "            correct += (predicted == labels).sum().item()\n",
    "\n",
    "        print('Accuracy of the network on the 10000 test images: {} %'.format(100 * correct / total))\n"
   ]
  },
  {
   "cell_type": "code",
   "execution_count": 53,
   "metadata": {},
   "outputs": [
    {
     "name": "stdout",
     "output_type": "stream",
     "text": [
      "Accuracy of the network on the 10000 test images: 10.85 %\n"
     ]
    }
   ],
   "source": [
    "evaluate()"
   ]
  },
  {
   "cell_type": "markdown",
   "metadata": {},
   "source": [
    "Looks terrible for the accuracy because we initialize the parameters with random numbers. To improve the accuracy, we need to learn the paramters using optimization:"
   ]
  },
  {
   "cell_type": "code",
   "execution_count": 35,
   "metadata": {},
   "outputs": [
    {
     "name": "stdout",
     "output_type": "stream",
     "text": [
      "Epoch [1/5], Step [100/600], Loss: 0.3837\n",
      "Epoch [1/5], Step [200/600], Loss: 0.3099\n",
      "Epoch [1/5], Step [300/600], Loss: 0.1302\n",
      "Epoch [1/5], Step [400/600], Loss: 0.1870\n",
      "Epoch [1/5], Step [500/600], Loss: 0.1676\n",
      "Epoch [1/5], Step [600/600], Loss: 0.1519\n",
      "Epoch [2/5], Step [100/600], Loss: 0.2768\n",
      "Epoch [2/5], Step [200/600], Loss: 0.0583\n",
      "Epoch [2/5], Step [300/600], Loss: 0.0677\n",
      "Epoch [2/5], Step [400/600], Loss: 0.1094\n",
      "Epoch [2/5], Step [500/600], Loss: 0.1060\n",
      "Epoch [2/5], Step [600/600], Loss: 0.1679\n",
      "Epoch [3/5], Step [100/600], Loss: 0.0283\n",
      "Epoch [3/5], Step [200/600], Loss: 0.1580\n",
      "Epoch [3/5], Step [300/600], Loss: 0.0783\n",
      "Epoch [3/5], Step [400/600], Loss: 0.1140\n",
      "Epoch [3/5], Step [500/600], Loss: 0.0761\n",
      "Epoch [3/5], Step [600/600], Loss: 0.0811\n",
      "Epoch [4/5], Step [100/600], Loss: 0.0680\n",
      "Epoch [4/5], Step [200/600], Loss: 0.0233\n",
      "Epoch [4/5], Step [300/600], Loss: 0.0454\n",
      "Epoch [4/5], Step [400/600], Loss: 0.0668\n",
      "Epoch [4/5], Step [500/600], Loss: 0.0959\n",
      "Epoch [4/5], Step [600/600], Loss: 0.0190\n",
      "Epoch [5/5], Step [100/600], Loss: 0.0260\n",
      "Epoch [5/5], Step [200/600], Loss: 0.0566\n",
      "Epoch [5/5], Step [300/600], Loss: 0.0475\n",
      "Epoch [5/5], Step [400/600], Loss: 0.1284\n",
      "Epoch [5/5], Step [500/600], Loss: 0.0751\n",
      "Epoch [5/5], Step [600/600], Loss: 0.0311\n"
     ]
    }
   ],
   "source": [
    "# Train the model\n",
    "total_step = len(train_loader)\n",
    "for epoch in range(num_epochs):\n",
    "    for i, (images, labels) in enumerate(train_loader):  \n",
    "        # Move tensors to the configured device\n",
    "        images = images.reshape(-1, 28*28).to(device)\n",
    "        labels = labels.to(device)\n",
    "        \n",
    "        # Forward pass\n",
    "        outputs = model(images)\n",
    "        loss = criterion(outputs, labels)\n",
    "        \n",
    "        # Backward and optimize\n",
    "        optimizer.zero_grad()\n",
    "        loss.backward()\n",
    "        optimizer.step()\n",
    "        \n",
    "        if (i+1) % 100 == 0:\n",
    "            print ('Epoch [{}/{}], Step [{}/{}], Loss: {:.4f}' \n",
    "                   .format(epoch+1, num_epochs, i+1, total_step, \n",
    "                           loss.item()))"
   ]
  },
  {
   "cell_type": "code",
   "execution_count": 36,
   "metadata": {},
   "outputs": [
    {
     "name": "stdout",
     "output_type": "stream",
     "text": [
      "Accuracy of the network on the 10000 test images: 97.85 %\n"
     ]
    }
   ],
   "source": [
    "evalute()"
   ]
  },
  {
   "cell_type": "markdown",
   "metadata": {},
   "source": [
    "Now you see that the accuracy up to 97% after optimzation"
   ]
  },
  {
   "cell_type": "code",
   "execution_count": 54,
   "metadata": {},
   "outputs": [],
   "source": [
    "# Save the model checkpoint\n",
    "torch.save(model.state_dict(), 'model.ckpt')"
   ]
  },
  {
   "cell_type": "markdown",
   "metadata": {},
   "source": [
    "## 3.5 Convolution Neural Network"
   ]
  },
  {
   "cell_type": "code",
   "execution_count": 57,
   "metadata": {},
   "outputs": [],
   "source": [
    "class ConvNet(nn.Module):\n",
    "    def __init__(self, num_classes=10):\n",
    "        super(ConvNet, self).__init__()\n",
    "        self.layer1 = nn.Sequential(\n",
    "            nn.Conv2d(1, 16, kernel_size=5, stride=1, padding=2),\n",
    "            nn.BatchNorm2d(16),\n",
    "            nn.ReLU(),\n",
    "            nn.MaxPool2d(kernel_size=2, stride=2))\n",
    "        self.layer2 = nn.Sequential(\n",
    "            nn.Conv2d(16, 32, kernel_size=5, stride=1, padding=2),\n",
    "            nn.BatchNorm2d(32),\n",
    "            nn.ReLU(),\n",
    "            nn.MaxPool2d(kernel_size=2, stride=2))\n",
    "        self.fc = nn.Linear(7*7*32, num_classes)\n",
    "        \n",
    "    def forward(self, x):\n",
    "        out = self.layer1(x)\n",
    "        out = self.layer2(out)\n",
    "        out = out.reshape(out.size(0), -1)\n",
    "        out = self.fc(out)\n",
    "        return out"
   ]
  },
  {
   "cell_type": "code",
   "execution_count": 58,
   "metadata": {},
   "outputs": [],
   "source": [
    "model = ConvNet(num_classes).to(device)\n",
    "\n",
    "# Loss and optimizer\n",
    "criterion = nn.CrossEntropyLoss()\n",
    "optimizer = torch.optim.Adam(model.parameters(), lr=learning_rate)"
   ]
  },
  {
   "cell_type": "code",
   "execution_count": 59,
   "metadata": {},
   "outputs": [
    {
     "name": "stdout",
     "output_type": "stream",
     "text": [
      "Epoch [1/5], Step [100/600], Loss: 0.0933\n",
      "Epoch [1/5], Step [200/600], Loss: 0.0695\n",
      "Epoch [1/5], Step [300/600], Loss: 0.0435\n",
      "Epoch [1/5], Step [400/600], Loss: 0.0791\n",
      "Epoch [1/5], Step [500/600], Loss: 0.0380\n",
      "Epoch [1/5], Step [600/600], Loss: 0.0154\n",
      "Epoch [2/5], Step [100/600], Loss: 0.1077\n",
      "Epoch [2/5], Step [200/600], Loss: 0.0434\n",
      "Epoch [2/5], Step [300/600], Loss: 0.0267\n",
      "Epoch [2/5], Step [400/600], Loss: 0.0294\n",
      "Epoch [2/5], Step [500/600], Loss: 0.0244\n",
      "Epoch [2/5], Step [600/600], Loss: 0.0290\n",
      "Epoch [3/5], Step [100/600], Loss: 0.0154\n",
      "Epoch [3/5], Step [200/600], Loss: 0.0265\n",
      "Epoch [3/5], Step [300/600], Loss: 0.0073\n",
      "Epoch [3/5], Step [400/600], Loss: 0.0124\n",
      "Epoch [3/5], Step [500/600], Loss: 0.0088\n",
      "Epoch [3/5], Step [600/600], Loss: 0.1490\n",
      "Epoch [4/5], Step [100/600], Loss: 0.1029\n",
      "Epoch [4/5], Step [200/600], Loss: 0.0267\n",
      "Epoch [4/5], Step [300/600], Loss: 0.0501\n",
      "Epoch [4/5], Step [400/600], Loss: 0.1115\n",
      "Epoch [4/5], Step [500/600], Loss: 0.0445\n",
      "Epoch [4/5], Step [600/600], Loss: 0.0361\n",
      "Epoch [5/5], Step [100/600], Loss: 0.0190\n",
      "Epoch [5/5], Step [200/600], Loss: 0.0453\n",
      "Epoch [5/5], Step [300/600], Loss: 0.0275\n",
      "Epoch [5/5], Step [400/600], Loss: 0.0093\n",
      "Epoch [5/5], Step [500/600], Loss: 0.0872\n",
      "Epoch [5/5], Step [600/600], Loss: 0.0024\n"
     ]
    }
   ],
   "source": [
    "# Train the model\n",
    "total_step = len(train_loader)\n",
    "for epoch in range(num_epochs):\n",
    "    for i, (images, labels) in enumerate(train_loader):\n",
    "        images = images.to(device)\n",
    "        labels = labels.to(device)\n",
    "        \n",
    "        # Forward pass\n",
    "        outputs = model(images)\n",
    "        loss = criterion(outputs, labels)\n",
    "        \n",
    "        # Backward and optimize\n",
    "        optimizer.zero_grad()\n",
    "        loss.backward()\n",
    "        optimizer.step()\n",
    "        \n",
    "        if (i+1) % 100 == 0:\n",
    "            print ('Epoch [{}/{}], Step [{}/{}], Loss: {:.4f}' \n",
    "                   .format(epoch+1, num_epochs, i+1, total_step, loss.item()))"
   ]
  },
  {
   "cell_type": "code",
   "execution_count": 68,
   "metadata": {},
   "outputs": [
    {
     "name": "stdout",
     "output_type": "stream",
     "text": [
      "Test Accuracy of the model on the 10000 test images: 99.01 %\n"
     ]
    }
   ],
   "source": [
    "model.eval()  # eval mode (batchnorm uses moving mean/variance instead of mini-batch mean/variance)\n",
    "def evaluate():\n",
    "    with torch.no_grad():\n",
    "        correct = 0\n",
    "        total = 0\n",
    "        for images, labels in test_loader:\n",
    "            images = images.to(device)\n",
    "            labels = labels.to(device)\n",
    "            outputs = model(images)\n",
    "            _, predicted = torch.max(outputs.data, 1)\n",
    "            total += labels.size(0)\n",
    "            correct += (predicted == labels).sum().item()\n",
    "    print('Test Accuracy of the model on the 10000 test images: {} %'.format(100 * correct / total))\n",
    "evaluate()"
   ]
  },
  {
   "cell_type": "code",
   "execution_count": null,
   "metadata": {},
   "outputs": [],
   "source": []
  }
 ],
 "metadata": {
  "kernelspec": {
   "display_name": "torch",
   "language": "python",
   "name": "torch"
  },
  "language_info": {
   "codemirror_mode": {
    "name": "ipython",
    "version": 3
   },
   "file_extension": ".py",
   "mimetype": "text/x-python",
   "name": "python",
   "nbconvert_exporter": "python",
   "pygments_lexer": "ipython3",
   "version": "3.7.9"
  }
 },
 "nbformat": 4,
 "nbformat_minor": 4
}
